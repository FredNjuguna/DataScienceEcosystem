{
 "cells": [
  {
   "cell_type": "markdown",
   "id": "8cd6d982-ccb1-4ac0-8afe-7ce838e9118e",
   "metadata": {},
   "source": [
    "# Data Science Tools and Ecosystem"
   ]
  },
  {
   "cell_type": "markdown",
   "id": "78a5cd51-910d-4100-8552-9473f89b9d4c",
   "metadata": {},
   "source": [
    "In this notebook, Data Science Tools and Ecosystem are summarized."
   ]
  },
  {
   "cell_type": "markdown",
   "id": "c9a2ae92-cce7-4d8d-b5f6-63528150b826",
   "metadata": {
    "tags": []
   },
   "source": [
    "**Objectives:**\n",
    "* Scala\n",
    "* Python\n",
    "* Julia\n",
    "* R"
   ]
  },
  {
   "cell_type": "markdown",
   "id": "a50112b2-9d2f-455b-8d5d-453e9239c7aa",
   "metadata": {},
   "source": [
    "Some of the popular languages that Data Scientists use are:\n",
    "1. Python.\n",
    "2. R.\n",
    "3. Julia\n",
    "4. Javascript"
   ]
  },
  {
   "cell_type": "markdown",
   "id": "caf88135-dbf0-4594-b009-c999d1471194",
   "metadata": {},
   "source": [
    "Some of the commonly used libraries used by Data Scientists include:\n",
    "1. TensorFlow.\n",
    "2. Pandas\n",
    "3. NumPy\n",
    "4. SciPy."
   ]
  },
  {
   "cell_type": "markdown",
   "id": "05893794-2fd9-4fee-9bd5-2b4aa93ce647",
   "metadata": {},
   "source": [
    "|Data Science Tools|\n",
    "|------------------|\n",
    "|RStudio|\n",
    "|Hadoop|\n",
    "|Apache Spark|"
   ]
  },
  {
   "cell_type": "markdown",
   "id": "325b1451-a14f-4862-8ce0-39e118e4b048",
   "metadata": {},
   "source": [
    "### Below are a few examples of evaluating arithmetic expressions in Python"
   ]
  },
  {
   "cell_type": "code",
   "execution_count": 1,
   "id": "35506e95-dbfd-46d3-88e9-daea60e315a7",
   "metadata": {
    "tags": []
   },
   "outputs": [
    {
     "data": {
      "text/plain": [
       "17"
      ]
     },
     "execution_count": 1,
     "metadata": {},
     "output_type": "execute_result"
    }
   ],
   "source": [
    "#This a simple arithmetic expression to mutiply then add integers\n",
    "(3*4)+5"
   ]
  },
  {
   "cell_type": "code",
   "execution_count": 8,
   "id": "5ce44c55-645a-4eba-a978-b22cb2100444",
   "metadata": {
    "tags": []
   },
   "outputs": [
    {
     "name": "stdout",
     "output_type": "stream",
     "text": [
      "3.3333333333333335\n"
     ]
    }
   ],
   "source": [
    "#This will convert 200 minutes to hours by diving by 60\n",
    "minutes=200\n",
    "Hours=minutes/60\n",
    "print(Hours)"
   ]
  },
  {
   "cell_type": "markdown",
   "id": "9286bef1-dbc7-4c0f-8023-1ce9f4166827",
   "metadata": {},
   "source": [
    "## Author\n",
    "Fredrick Njuguna"
   ]
  }
 ],
 "metadata": {
  "kernelspec": {
   "display_name": "Python 3 (ipykernel)",
   "language": "python",
   "name": "python3"
  },
  "language_info": {
   "codemirror_mode": {
    "name": "ipython",
    "version": 3
   },
   "file_extension": ".py",
   "mimetype": "text/x-python",
   "name": "python",
   "nbconvert_exporter": "python",
   "pygments_lexer": "ipython3",
   "version": "3.11.5"
  }
 },
 "nbformat": 4,
 "nbformat_minor": 5
}
